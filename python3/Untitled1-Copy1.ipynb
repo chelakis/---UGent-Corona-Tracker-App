{
 "cells": [
  {
   "cell_type": "code",
   "execution_count": 25,
   "metadata": {
    "scrolled": false
   },
   "outputs": [
    {
     "name": "stdout",
     "output_type": "stream",
     "text": [
      "number of registred users: 2\n",
      "[[38\n",
      "  '62b61cbf1634ec98d0990e1882069b4983dab49a688048d8191328e6696e0b140b5014bd3e326250ee964871f63e3c1e'\n",
      "  'e446379db46e24bd76f08da26257c22f:35f5f6397ffbdc9687d0e72f469aacf11e00b63126e27ff8cc253fe98cf57a199e8ba124d69abebb73cc21266c28b97290ed4f992450f19e2bb924b5ab71d020ba3a3315fdf516d71ab183844c128e6579054812819b905f39c51d320524d681a6c1c9cf24fb9269644f103b683a673035313f3139ea139b19fd328891dbf94b1d245851bbc2787eff4e9bcd2217d7e24dcc619c5e5e27e95f09bc41fa8ece78']\n",
      " [39\n",
      "  '62b61cbf1634ec98d0990e1882069b4983dab49a688048d8191328e6696e0b140b5014bd3e326250ee964871f63e3c1e'\n",
      "  'e446379db46e24bd76f08da26257c22f:35f5f6397ffbdc9687d0e72f469aacf11e00b63126e27ff8cc253fe98cf57a199e8ba124d69abebb73cc21266c28b97290ed4f992450f19e2bb924b5ab71d020ba3a3315fdf516d71ab183844c128e6579054812819b905f39c51d320524d681a6c1c9cf24fb9269644f103b683a673035313f3139ea139b19fd328891dbf94b1d245851bbc2787eff4e9bcd2217d7e24dcc619c5e5e27e95f09bc41fa8ece78']]\n"
     ]
    },
    {
     "data": {
      "text/plain": [
       "38"
      ]
     },
     "execution_count": 25,
     "metadata": {},
     "output_type": "execute_result"
    }
   ],
   "source": [
    "import glob\n",
    "import os\n",
    "import os.path\n",
    "import csv\n",
    "\n",
    "# def find_all_registred_users():\n",
    "all_users = (glob.glob1(os.path.abspath(os.getcwd()),\"user*.txt\"))\n",
    "print(\"number of registred users:\" ,len(all_users))\n",
    "\n",
    "uuid_list = []\n",
    "for i in range (len(all_users)):\n",
    "    y1 = all_users[i].replace(\"user\",\"\")\n",
    "    y2 = y1.replace(\".txt\",\"\")\n",
    "    uuid_list.append (y2)\n",
    "\n",
    "token_list = \"\"\n",
    "\n",
    "for i in range(len(uuid_list)):\n",
    "    temp = []\n",
    "    f = open(\"user\" + uuid_list[i] + \".txt\")\n",
    "    contents = f.read()\n",
    "    token_list = token_list + contents + \"\\n\"\n",
    "    f.close()\n",
    "\n",
    "final_txt = open('csv.txt','w')\n",
    "final_txt.write(token_list)\n",
    "final_txt.close()\n",
    "\n",
    "import csv\n",
    "with open('csv.txt', 'r') as in_file:\n",
    "    stripped = (line.strip() for line in in_file)\n",
    "    lines = (line.split(\",\") for line in stripped if line)\n",
    "    with open('log.csv', 'w') as out_file:\n",
    "        writer = csv.writer(out_file)\n",
    "        writer.writerow(('uuid', 'idtok','token'))\n",
    "        writer.writerows(lines)\n",
    "        \n",
    "\n",
    "import pandas as pd\n",
    "df=pd.read_csv('log.csv', sep=',', header=0)\n",
    "uuids= df.values\n",
    "\n",
    "print(uuids)\n",
    "   \n",
    "    "
   ]
  },
  {
   "cell_type": "code",
   "execution_count": 31,
   "metadata": {},
   "outputs": [],
   "source": [
    "x = 37\n",
    "for i in range (len(uuids)):\n",
    "    if x == uuids[i][0]:\n",
    "        print(\"success\")"
   ]
  }
 ],
 "metadata": {
  "kernelspec": {
   "display_name": "Python 3",
   "language": "python",
   "name": "python3"
  },
  "language_info": {
   "codemirror_mode": {
    "name": "ipython",
    "version": 3
   },
   "file_extension": ".py",
   "mimetype": "text/x-python",
   "name": "python",
   "nbconvert_exporter": "python",
   "pygments_lexer": "ipython3",
   "version": "3.7.5"
  }
 },
 "nbformat": 4,
 "nbformat_minor": 4
}
